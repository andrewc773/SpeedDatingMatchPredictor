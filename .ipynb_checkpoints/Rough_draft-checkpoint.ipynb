{
 "cells": [
  {
   "cell_type": "code",
   "execution_count": 1,
   "id": "c9c24b53-b5a5-4d66-8ddc-963c7699e43a",
   "metadata": {},
   "outputs": [],
   "source": [
    "#import neccessary libraries\n",
    "import pandas as pd\n",
    "import matplotlib.pyplot as plt\n",
    "import numpy as np"
   ]
  },
  {
   "cell_type": "code",
   "execution_count": 2,
   "id": "08536ba2-9be3-4a49-ace5-c4633d642b5d",
   "metadata": {},
   "outputs": [
    {
     "data": {
      "text/html": [
       "<div>\n",
       "<style scoped>\n",
       "    .dataframe tbody tr th:only-of-type {\n",
       "        vertical-align: middle;\n",
       "    }\n",
       "\n",
       "    .dataframe tbody tr th {\n",
       "        vertical-align: top;\n",
       "    }\n",
       "\n",
       "    .dataframe thead th {\n",
       "        text-align: right;\n",
       "    }\n",
       "</style>\n",
       "<table border=\"1\" class=\"dataframe\">\n",
       "  <thead>\n",
       "    <tr style=\"text-align: right;\">\n",
       "      <th></th>\n",
       "      <th>iid</th>\n",
       "      <th>id</th>\n",
       "      <th>gender</th>\n",
       "      <th>idg</th>\n",
       "      <th>condtn</th>\n",
       "      <th>wave</th>\n",
       "      <th>round</th>\n",
       "      <th>position</th>\n",
       "      <th>positin1</th>\n",
       "      <th>order</th>\n",
       "      <th>...</th>\n",
       "      <th>attr3_3</th>\n",
       "      <th>sinc3_3</th>\n",
       "      <th>intel3_3</th>\n",
       "      <th>fun3_3</th>\n",
       "      <th>amb3_3</th>\n",
       "      <th>attr5_3</th>\n",
       "      <th>sinc5_3</th>\n",
       "      <th>intel5_3</th>\n",
       "      <th>fun5_3</th>\n",
       "      <th>amb5_3</th>\n",
       "    </tr>\n",
       "  </thead>\n",
       "  <tbody>\n",
       "    <tr>\n",
       "      <th>0</th>\n",
       "      <td>1</td>\n",
       "      <td>1.0</td>\n",
       "      <td>0</td>\n",
       "      <td>1</td>\n",
       "      <td>1</td>\n",
       "      <td>1</td>\n",
       "      <td>10</td>\n",
       "      <td>7</td>\n",
       "      <td>NaN</td>\n",
       "      <td>4</td>\n",
       "      <td>...</td>\n",
       "      <td>5.0</td>\n",
       "      <td>7.0</td>\n",
       "      <td>7.0</td>\n",
       "      <td>7.0</td>\n",
       "      <td>7.0</td>\n",
       "      <td>NaN</td>\n",
       "      <td>NaN</td>\n",
       "      <td>NaN</td>\n",
       "      <td>NaN</td>\n",
       "      <td>NaN</td>\n",
       "    </tr>\n",
       "    <tr>\n",
       "      <th>1</th>\n",
       "      <td>1</td>\n",
       "      <td>1.0</td>\n",
       "      <td>0</td>\n",
       "      <td>1</td>\n",
       "      <td>1</td>\n",
       "      <td>1</td>\n",
       "      <td>10</td>\n",
       "      <td>7</td>\n",
       "      <td>NaN</td>\n",
       "      <td>3</td>\n",
       "      <td>...</td>\n",
       "      <td>5.0</td>\n",
       "      <td>7.0</td>\n",
       "      <td>7.0</td>\n",
       "      <td>7.0</td>\n",
       "      <td>7.0</td>\n",
       "      <td>NaN</td>\n",
       "      <td>NaN</td>\n",
       "      <td>NaN</td>\n",
       "      <td>NaN</td>\n",
       "      <td>NaN</td>\n",
       "    </tr>\n",
       "    <tr>\n",
       "      <th>2</th>\n",
       "      <td>1</td>\n",
       "      <td>1.0</td>\n",
       "      <td>0</td>\n",
       "      <td>1</td>\n",
       "      <td>1</td>\n",
       "      <td>1</td>\n",
       "      <td>10</td>\n",
       "      <td>7</td>\n",
       "      <td>NaN</td>\n",
       "      <td>10</td>\n",
       "      <td>...</td>\n",
       "      <td>5.0</td>\n",
       "      <td>7.0</td>\n",
       "      <td>7.0</td>\n",
       "      <td>7.0</td>\n",
       "      <td>7.0</td>\n",
       "      <td>NaN</td>\n",
       "      <td>NaN</td>\n",
       "      <td>NaN</td>\n",
       "      <td>NaN</td>\n",
       "      <td>NaN</td>\n",
       "    </tr>\n",
       "    <tr>\n",
       "      <th>3</th>\n",
       "      <td>1</td>\n",
       "      <td>1.0</td>\n",
       "      <td>0</td>\n",
       "      <td>1</td>\n",
       "      <td>1</td>\n",
       "      <td>1</td>\n",
       "      <td>10</td>\n",
       "      <td>7</td>\n",
       "      <td>NaN</td>\n",
       "      <td>5</td>\n",
       "      <td>...</td>\n",
       "      <td>5.0</td>\n",
       "      <td>7.0</td>\n",
       "      <td>7.0</td>\n",
       "      <td>7.0</td>\n",
       "      <td>7.0</td>\n",
       "      <td>NaN</td>\n",
       "      <td>NaN</td>\n",
       "      <td>NaN</td>\n",
       "      <td>NaN</td>\n",
       "      <td>NaN</td>\n",
       "    </tr>\n",
       "    <tr>\n",
       "      <th>4</th>\n",
       "      <td>1</td>\n",
       "      <td>1.0</td>\n",
       "      <td>0</td>\n",
       "      <td>1</td>\n",
       "      <td>1</td>\n",
       "      <td>1</td>\n",
       "      <td>10</td>\n",
       "      <td>7</td>\n",
       "      <td>NaN</td>\n",
       "      <td>7</td>\n",
       "      <td>...</td>\n",
       "      <td>5.0</td>\n",
       "      <td>7.0</td>\n",
       "      <td>7.0</td>\n",
       "      <td>7.0</td>\n",
       "      <td>7.0</td>\n",
       "      <td>NaN</td>\n",
       "      <td>NaN</td>\n",
       "      <td>NaN</td>\n",
       "      <td>NaN</td>\n",
       "      <td>NaN</td>\n",
       "    </tr>\n",
       "  </tbody>\n",
       "</table>\n",
       "<p>5 rows × 195 columns</p>\n",
       "</div>"
      ],
      "text/plain": [
       "   iid   id  gender  idg  condtn  wave  round  position  positin1  order  ...  \\\n",
       "0    1  1.0       0    1       1     1     10         7       NaN      4  ...   \n",
       "1    1  1.0       0    1       1     1     10         7       NaN      3  ...   \n",
       "2    1  1.0       0    1       1     1     10         7       NaN     10  ...   \n",
       "3    1  1.0       0    1       1     1     10         7       NaN      5  ...   \n",
       "4    1  1.0       0    1       1     1     10         7       NaN      7  ...   \n",
       "\n",
       "   attr3_3  sinc3_3  intel3_3  fun3_3  amb3_3  attr5_3  sinc5_3  intel5_3  \\\n",
       "0      5.0      7.0       7.0     7.0     7.0      NaN      NaN       NaN   \n",
       "1      5.0      7.0       7.0     7.0     7.0      NaN      NaN       NaN   \n",
       "2      5.0      7.0       7.0     7.0     7.0      NaN      NaN       NaN   \n",
       "3      5.0      7.0       7.0     7.0     7.0      NaN      NaN       NaN   \n",
       "4      5.0      7.0       7.0     7.0     7.0      NaN      NaN       NaN   \n",
       "\n",
       "   fun5_3  amb5_3  \n",
       "0     NaN     NaN  \n",
       "1     NaN     NaN  \n",
       "2     NaN     NaN  \n",
       "3     NaN     NaN  \n",
       "4     NaN     NaN  \n",
       "\n",
       "[5 rows x 195 columns]"
      ]
     },
     "execution_count": 2,
     "metadata": {},
     "output_type": "execute_result"
    }
   ],
   "source": [
    "# Convert the CSV File into a Pandas DataFrame. Initially, we run into an issue with encoding, so we change the encoding.\n",
    "data = pd.read_csv(\"Speed Dating Data.csv\", encoding='iso-8859-1')\n",
    "data.head()"
   ]
  },
  {
   "cell_type": "code",
   "execution_count": 3,
   "id": "0d299fb8-a198-4501-9bc0-babf966a4d29",
   "metadata": {},
   "outputs": [],
   "source": [
    "# There are 195 columns. We are going to ignore a large portion of these column, so\n",
    "# we can begin to remove them now."
   ]
  },
  {
   "cell_type": "code",
   "execution_count": 4,
   "id": "fe53373a-f539-4643-9b69-22aeb76801fd",
   "metadata": {},
   "outputs": [],
   "source": [
    "# We will be removing all columns that involve data entries after the participant has already decided whether or not they are a match with their particpant,\n",
    "# since this data is irrelevant for the question we want to answer. We want to be able to predict if a person will match with someone solely from the initial speed date they\n",
    "# have, and the information about themselves that they filled out prior (such as gender, age, field of study, etc.)\n",
    "\n",
    "#So, remove every column after \"amb3_s\", since the entries after are after the speed date event.\n",
    "data = data.iloc[:, :data.columns.get_loc('satis_2')]"
   ]
  },
  {
   "cell_type": "code",
   "execution_count": 5,
   "id": "8b9f09cb-f811-4c95-bc81-34882e142f8e",
   "metadata": {},
   "outputs": [],
   "source": [
    "# Some columns require altering, particularly for missing data in the columns. There are several ways to handle missing data, and it is context-dependent.\n",
    "# For the mn_sat column, which marks the median SAT score from the participant's school for undergrad, we will look up the median score back in 2002 to fill the column.\n",
    "# This column is important because it serves as a measure for overall intelligence. "
   ]
  },
  {
   "cell_type": "code",
   "execution_count": 6,
   "id": "d94a7f4a-bfb3-4483-83a5-ec5a7a177985",
   "metadata": {},
   "outputs": [],
   "source": [
    "sat_map = {'Washington U. in St. Louis': 1469, 'university of wisconsin/la crosse': 1174 ,'HOWARD UNIVERSITY': 1213, 'Cambridge University': 1480, 'Illinois': 1350, \n",
    "       'Penn State University': 1265, 'George Washington University': 1370, 'University of Wisconsin-Madison': 1390, 'University of Illinois/Champaign': 1350, 'GW': 1370,\n",
    "       'University of Chicago': 1520, 'UC Irvine': 1310, 'Cal State Univ.,Long Beach': 1145, 'Washington University in St. Louis': 1469, 'Tufts University': 1465, \n",
    "       'University of Rochester': 1420,  'Rice University': 1505, 'washington university in st louis': 1470, 'Tufts': 1465, 'tufts': 1465, \n",
    "       'University of the Philippines': 1026, 'UM': 1355, 'Wake Forest': 1390, 'University of Massachusetts-Amherst': 1290, 'Case Western Reserve University': 1435, \n",
    "       'Vanderbilt University': 1505, 'University of Kansas': 1240, 'California State University Los Angeles': 985, 'COOPER UNION': 1413, 'Texas State University': 1095,\n",
    "       'Cooper Union, Bard college, and SUNY Purchase': 1304, 'University of Genova': 1127, 'Oxford University': 1550, 'Oxford': 1550}"
   ]
  },
  {
   "cell_type": "code",
   "execution_count": 7,
   "id": "689398ea-1440-4022-b98d-e01ea38ef34b",
   "metadata": {},
   "outputs": [],
   "source": [
    "# Fill in all missing SAT scores for schools in which we were able to locate SAT score averages\n",
    "for k in sat_map.keys():\n",
    "    data.loc[ data['undergra'] == k, 'mn_sat'] = sat_map[k]"
   ]
  },
  {
   "cell_type": "code",
   "execution_count": 8,
   "id": "c1a23b64-3748-43d2-92b6-f7f2625d2916",
   "metadata": {},
   "outputs": [],
   "source": [
    "# Replace all NaN values with an empty string, set all values in SAT score to strings, then convert all strings to floats for SAT\n",
    "# so we can calculate median score.\n",
    "data[\"mn_sat\"] = data['mn_sat'].replace(np.nan, '')\n",
    "data[\"mn_sat\"]= data[\"mn_sat\"].astype(str)\n",
    "data[\"mn_sat\"] = pd.to_numeric(data[\"mn_sat\"].replace(',','', regex=True), downcast=\"float\")"
   ]
  },
  {
   "cell_type": "code",
   "execution_count": 9,
   "id": "1e3c6d8d-1496-4a3e-a6c0-78e4b081cf83",
   "metadata": {},
   "outputs": [],
   "source": [
    "# Replace NaN values with the SAT median score of the entire population\n",
    "data[\"mn_sat\"] = data['mn_sat'].replace(np.nan, data[\"mn_sat\"].median())"
   ]
  },
  {
   "cell_type": "code",
   "execution_count": 10,
   "id": "fcb9c0cd-71d7-4e5e-a31a-a71b4297aa94",
   "metadata": {},
   "outputs": [],
   "source": [
    "# Another column we will fill the missing entries of is salary. For this column, we will just calculate the mean salary of all participants and replace all missing \n",
    "# salary entries with this mean.\n",
    "data[\"income\"] = data['income'].replace(np.nan, '')\n",
    "data[\"income\"]= data[\"income\"].astype(str)\n",
    "data[\"income\"] = pd.to_numeric(data[\"income\"].replace(',','', regex=True), downcast=\"float\")"
   ]
  },
  {
   "cell_type": "code",
   "execution_count": 11,
   "id": "0149056e-9b7c-49d5-8220-078ab45cf62b",
   "metadata": {},
   "outputs": [],
   "source": [
    "data[\"income\"] = data['income'].replace(np.nan, data['income'].mean())"
   ]
  },
  {
   "cell_type": "code",
   "execution_count": 12,
   "id": "e896595a-ea39-45fc-8e54-aab4ccba70ca",
   "metadata": {},
   "outputs": [],
   "source": [
    "# We want to remove columns such as the id of the participant, ID of their date, zipcode, and some of the categorical data that has already been encoded in numbers for\n",
    "# us (such as career and field of study in undergrad).\n",
    "\n",
    "data = data.drop(['iid', 'id', 'idg', 'position', 'positin1', 'partner', 'pid', 'field', 'undergra', 'from', 'zipcode', 'career', 'tuition', 'expnum'], axis = 1)\n"
   ]
  },
  {
   "cell_type": "code",
   "execution_count": 13,
   "id": "aa032e09-f25d-4a8d-b482-8a53d2de4eef",
   "metadata": {},
   "outputs": [
    {
     "name": "stdout",
     "output_type": "stream",
     "text": [
      "4096\n"
     ]
    }
   ],
   "source": [
    "# There are too many NaN entries from attr1_s column and on. Over half of our rows have missing entries, so we will delete these columns.\n",
    "print(len(data[pd.isna(data.attr1_s) == False]))"
   ]
  },
  {
   "cell_type": "code",
   "execution_count": 14,
   "id": "f2aaac5f-bc46-44f7-ab82-4b507be692e0",
   "metadata": {},
   "outputs": [],
   "source": [
    "# Deleting columns with too many NaN entries\n",
    "data = data.iloc[:, :data.columns.get_loc('attr1_s')]  #There are too many NaN entries here - SHOW NUMBERS\n",
    "# Another example of too many NaNs in the columns\n",
    "data = data.drop(['attr5_1', 'sinc5_1', 'intel5_1', 'fun5_1', 'amb5_1'], axis = 1)"
   ]
  },
  {
   "cell_type": "code",
   "execution_count": 15,
   "id": "0608c717-b56f-44f8-b292-f91f712b6bfc",
   "metadata": {},
   "outputs": [],
   "source": [
    "# Delete all entries that have missing values in the participant's impression of their date. The ratings of the participant's date is crucial to our prediction, and it wouldn't\n",
    "# make sense to replace data with the mean or median if every person's impression can vary greatly (you may really like a particular person, or really not like them).\n",
    "data = data[pd.isna(data.attr) == False]\n",
    "data = data[pd.isna(data.sinc) == False]\n",
    "data = data[pd.isna(data.intel) == False]\n",
    "data = data[pd.isna(data.fun) == False]\n",
    "data = data[pd.isna(data.amb) == False]\n",
    "data = data[pd.isna(data.shar) == False]\n",
    "data = data[pd.isna(data.like) == False]\n",
    "data = data[pd.isna(data.prob) == False]\n",
    "data = data[pd.isna(data.met) == False]"
   ]
  },
  {
   "cell_type": "code",
   "execution_count": 16,
   "id": "e687de42-b844-4856-8b5e-9403de0321ec",
   "metadata": {},
   "outputs": [],
   "source": [
    "# Delete row containing no go_out (these rows contain lots of NaN values): \n",
    "data = data[pd.isna(data.go_out) == False]"
   ]
  },
  {
   "cell_type": "code",
   "execution_count": 17,
   "id": "5218bc66-68a5-4733-bb61-ad54d7ab13b5",
   "metadata": {},
   "outputs": [],
   "source": [
    "# Another issue we run into: Out of the 21 waves, waves 6-9 use a rating scale of 1-10 for attributes they are rating, as opposed to a \n",
    "# 100-point scale, which is used by all of the other waves. So, we will take each rating from wave 6-9 and multiply it by 10, so it fits an\n",
    "# 100-point scale. This is important for replacing nan attribute values with the median/mean of said attribute.\n",
    "\n",
    "# It appears that most attributes have been converted to an 100-point scale for waves 6-9, except attr4_1 to shar4_1, so we will adjust those accordingly:\n",
    "mask = ((data['wave'] >=6) & (data['wave'] <= 9))\n",
    "waves_6_9 = data[mask]\n",
    "\n",
    "for i, row in waves_6_9.iterrows():\n",
    "    data.at[i, 'attr4_1'] = waves_6_9['attr4_1'][i]*10\n",
    "    data.at[i, 'sinc4_1'] = waves_6_9['sinc4_1'][i]*10\n",
    "    data.at[i, 'intel4_1'] = waves_6_9['intel4_1'][i]*10\n",
    "    data.at[i, 'fun4_1'] = waves_6_9['fun4_1'][i]*10\n",
    "    data.at[i, 'amb4_1'] = waves_6_9['amb4_1'][i]*10\n",
    "    data.at[i, 'shar4_1'] = waves_6_9['shar4_1'][i]*10"
   ]
  },
  {
   "cell_type": "code",
   "execution_count": 18,
   "id": "e93be74d-84ca-4a9a-8af3-3386a76df6a0",
   "metadata": {},
   "outputs": [],
   "source": [
    "# Delete all rows where entries cannot be replaced by the median. \n",
    "not_replaceable = ['race_o', 'met_o', 'field_cd', 'career_c']\n",
    "\n",
    "for i in not_replaceable:\n",
    "    data = data[pd.isna(data[i]) == False]"
   ]
  },
  {
   "cell_type": "code",
   "execution_count": 19,
   "id": "5ea592b3-86b6-497c-b40c-98f8cb047b9b",
   "metadata": {},
   "outputs": [],
   "source": [
    "# replace the rest of the columns with their median, if they contain a NaN value:\n",
    "for col in data.columns:\n",
    "    data[col] = data[col].replace(np.nan, data[col].median())"
   ]
  },
  {
   "cell_type": "code",
   "execution_count": 20,
   "id": "c9c0b148-ed0c-4b52-b94c-ef2d6a978ee7",
   "metadata": {},
   "outputs": [],
   "source": [
    "import matplotlib.pyplot as plt"
   ]
  },
  {
   "cell_type": "code",
   "execution_count": 21,
   "id": "65d1be28-6fee-4185-9c8a-dce987ef128b",
   "metadata": {},
   "outputs": [],
   "source": [
    "# Time to explore the data..."
   ]
  },
  {
   "cell_type": "code",
   "execution_count": 22,
   "id": "0b7929df-fcf2-48f3-b5f8-a41bded7067c",
   "metadata": {},
   "outputs": [
    {
     "data": {
      "text/html": [
       "<div>\n",
       "<style scoped>\n",
       "    .dataframe tbody tr th:only-of-type {\n",
       "        vertical-align: middle;\n",
       "    }\n",
       "\n",
       "    .dataframe tbody tr th {\n",
       "        vertical-align: top;\n",
       "    }\n",
       "\n",
       "    .dataframe thead th {\n",
       "        text-align: right;\n",
       "    }\n",
       "</style>\n",
       "<table border=\"1\" class=\"dataframe\">\n",
       "  <thead>\n",
       "    <tr style=\"text-align: right;\">\n",
       "      <th></th>\n",
       "      <th>gender</th>\n",
       "      <th>condtn</th>\n",
       "      <th>wave</th>\n",
       "      <th>round</th>\n",
       "      <th>order</th>\n",
       "      <th>match</th>\n",
       "      <th>int_corr</th>\n",
       "      <th>samerace</th>\n",
       "      <th>age_o</th>\n",
       "      <th>race_o</th>\n",
       "      <th>...</th>\n",
       "      <th>attr</th>\n",
       "      <th>sinc</th>\n",
       "      <th>intel</th>\n",
       "      <th>fun</th>\n",
       "      <th>amb</th>\n",
       "      <th>shar</th>\n",
       "      <th>like</th>\n",
       "      <th>prob</th>\n",
       "      <th>met</th>\n",
       "      <th>match_es</th>\n",
       "    </tr>\n",
       "  </thead>\n",
       "  <tbody>\n",
       "    <tr>\n",
       "      <th>30</th>\n",
       "      <td>0</td>\n",
       "      <td>1</td>\n",
       "      <td>1</td>\n",
       "      <td>10</td>\n",
       "      <td>3</td>\n",
       "      <td>0</td>\n",
       "      <td>-0.18</td>\n",
       "      <td>1</td>\n",
       "      <td>27.0</td>\n",
       "      <td>2.0</td>\n",
       "      <td>...</td>\n",
       "      <td>4.0</td>\n",
       "      <td>10.0</td>\n",
       "      <td>8.0</td>\n",
       "      <td>5.0</td>\n",
       "      <td>8.0</td>\n",
       "      <td>7.0</td>\n",
       "      <td>6.0</td>\n",
       "      <td>7.0</td>\n",
       "      <td>2.0</td>\n",
       "      <td>2.0</td>\n",
       "    </tr>\n",
       "    <tr>\n",
       "      <th>31</th>\n",
       "      <td>0</td>\n",
       "      <td>1</td>\n",
       "      <td>1</td>\n",
       "      <td>10</td>\n",
       "      <td>2</td>\n",
       "      <td>0</td>\n",
       "      <td>-0.18</td>\n",
       "      <td>1</td>\n",
       "      <td>22.0</td>\n",
       "      <td>2.0</td>\n",
       "      <td>...</td>\n",
       "      <td>8.0</td>\n",
       "      <td>7.0</td>\n",
       "      <td>8.0</td>\n",
       "      <td>10.0</td>\n",
       "      <td>7.0</td>\n",
       "      <td>8.0</td>\n",
       "      <td>8.0</td>\n",
       "      <td>1.0</td>\n",
       "      <td>1.0</td>\n",
       "      <td>2.0</td>\n",
       "    </tr>\n",
       "    <tr>\n",
       "      <th>33</th>\n",
       "      <td>0</td>\n",
       "      <td>1</td>\n",
       "      <td>1</td>\n",
       "      <td>10</td>\n",
       "      <td>4</td>\n",
       "      <td>1</td>\n",
       "      <td>-0.18</td>\n",
       "      <td>1</td>\n",
       "      <td>23.0</td>\n",
       "      <td>2.0</td>\n",
       "      <td>...</td>\n",
       "      <td>8.0</td>\n",
       "      <td>10.0</td>\n",
       "      <td>7.0</td>\n",
       "      <td>10.0</td>\n",
       "      <td>7.0</td>\n",
       "      <td>10.0</td>\n",
       "      <td>8.0</td>\n",
       "      <td>10.0</td>\n",
       "      <td>1.0</td>\n",
       "      <td>2.0</td>\n",
       "    </tr>\n",
       "    <tr>\n",
       "      <th>34</th>\n",
       "      <td>0</td>\n",
       "      <td>1</td>\n",
       "      <td>1</td>\n",
       "      <td>10</td>\n",
       "      <td>6</td>\n",
       "      <td>0</td>\n",
       "      <td>0.21</td>\n",
       "      <td>0</td>\n",
       "      <td>24.0</td>\n",
       "      <td>3.0</td>\n",
       "      <td>...</td>\n",
       "      <td>6.0</td>\n",
       "      <td>9.0</td>\n",
       "      <td>8.0</td>\n",
       "      <td>9.0</td>\n",
       "      <td>8.0</td>\n",
       "      <td>9.0</td>\n",
       "      <td>7.0</td>\n",
       "      <td>7.0</td>\n",
       "      <td>2.0</td>\n",
       "      <td>2.0</td>\n",
       "    </tr>\n",
       "    <tr>\n",
       "      <th>35</th>\n",
       "      <td>0</td>\n",
       "      <td>1</td>\n",
       "      <td>1</td>\n",
       "      <td>10</td>\n",
       "      <td>5</td>\n",
       "      <td>0</td>\n",
       "      <td>0.37</td>\n",
       "      <td>1</td>\n",
       "      <td>25.0</td>\n",
       "      <td>2.0</td>\n",
       "      <td>...</td>\n",
       "      <td>5.0</td>\n",
       "      <td>10.0</td>\n",
       "      <td>8.0</td>\n",
       "      <td>4.0</td>\n",
       "      <td>8.0</td>\n",
       "      <td>2.0</td>\n",
       "      <td>4.0</td>\n",
       "      <td>3.0</td>\n",
       "      <td>2.0</td>\n",
       "      <td>2.0</td>\n",
       "    </tr>\n",
       "  </tbody>\n",
       "</table>\n",
       "<p>5 rows × 89 columns</p>\n",
       "</div>"
      ],
      "text/plain": [
       "    gender  condtn  wave  round  order  match  int_corr  samerace  age_o  \\\n",
       "30       0       1     1     10      3      0     -0.18         1   27.0   \n",
       "31       0       1     1     10      2      0     -0.18         1   22.0   \n",
       "33       0       1     1     10      4      1     -0.18         1   23.0   \n",
       "34       0       1     1     10      6      0      0.21         0   24.0   \n",
       "35       0       1     1     10      5      0      0.37         1   25.0   \n",
       "\n",
       "    race_o  ...  attr  sinc  intel   fun  amb  shar  like  prob  met  match_es  \n",
       "30     2.0  ...   4.0  10.0    8.0   5.0  8.0   7.0   6.0   7.0  2.0       2.0  \n",
       "31     2.0  ...   8.0   7.0    8.0  10.0  7.0   8.0   8.0   1.0  1.0       2.0  \n",
       "33     2.0  ...   8.0  10.0    7.0  10.0  7.0  10.0   8.0  10.0  1.0       2.0  \n",
       "34     3.0  ...   6.0   9.0    8.0   9.0  8.0   9.0   7.0   7.0  2.0       2.0  \n",
       "35     2.0  ...   5.0  10.0    8.0   4.0  8.0   2.0   4.0   3.0  2.0       2.0  \n",
       "\n",
       "[5 rows x 89 columns]"
      ]
     },
     "execution_count": 22,
     "metadata": {},
     "output_type": "execute_result"
    }
   ],
   "source": [
    "data.head()"
   ]
  },
  {
   "cell_type": "code",
   "execution_count": 23,
   "id": "9875696a-19d4-47ac-a9ce-04a5a9a8214b",
   "metadata": {},
   "outputs": [],
   "source": [
    "#Separate males and females into different dataframes, and collect their respective data and targets.\n",
    "female_df = data[data['gender'] == 0]\n",
    "female_target = np.array(female_df.dec)\n",
    "female_data = female_df.drop('dec', axis = 1)\n",
    "female_X, female_y = female_data.to_numpy(), female_target\n",
    "\n",
    "\n",
    "male_df = data[data['gender'] == 1]\n",
    "male_target = np.array(male_df.dec)\n",
    "male_data = male_df.drop('dec', axis = 1)\n",
    "male_X, male_y = male_data.to_numpy(), male_target"
   ]
  },
  {
   "cell_type": "code",
   "execution_count": 24,
   "id": "31dcdb80-d439-43ec-ae4f-e655e5daa9c5",
   "metadata": {},
   "outputs": [],
   "source": [
    "# Get the input of decisions from the participants in the form of an array, and then remove the targets from the dataset (since we are \n",
    "# using our ML model to decide whether the participant will decide \"yes\" or \"no\".\n",
    "target = np.array(data.dec)\n",
    "data = data.drop('dec', axis = 1)"
   ]
  },
  {
   "cell_type": "code",
   "execution_count": 25,
   "id": "10a1fc97-8af8-4dd5-8bfb-292a9c1bafe0",
   "metadata": {},
   "outputs": [],
   "source": [
    "from sklearn import tree"
   ]
  },
  {
   "cell_type": "code",
   "execution_count": 26,
   "id": "46cc44f3-e124-4274-9925-a32112f19a07",
   "metadata": {},
   "outputs": [],
   "source": [
    "X, y = data.to_numpy(), target"
   ]
  },
  {
   "cell_type": "code",
   "execution_count": 27,
   "id": "0d173ba7-3590-4b58-84b3-20f1459144da",
   "metadata": {},
   "outputs": [
    {
     "name": "stdout",
     "output_type": "stream",
     "text": [
      "10-fold Cross Validation results for Decision Tree:\n",
      "0.85 accuracy for test data\n",
      "0.85 recall for test data\n",
      "0.85 precision for test data\n",
      "-0.15 mean_squared error for test data\n"
     ]
    }
   ],
   "source": [
    "clf = tree.DecisionTreeClassifier(max_depth = 10, splitter = 'best', criterion = \"entropy\")\n",
    "clf = clf.fit(X, y)\n",
    "\n",
    "from sklearn.model_selection import cross_validate\n",
    "scoring = ['precision_macro', 'recall_macro', 'accuracy', 'neg_mean_squared_error']\n",
    "scores = cross_validate(clf, X, y, scoring=scoring, cv=10)\n",
    "print(\"10-fold Cross Validation results for Decision Tree:\")\n",
    "print(\"%0.2f accuracy for test data\" % (np.mean(scores['test_accuracy'])))\n",
    "print(\"%0.2f recall for test data\" % (np.mean(scores['test_recall_macro'])))\n",
    "print(\"%0.2f precision for test data\" % (np.mean(scores['test_precision_macro'])))\n",
    "print(\"%0.2f mean_squared error for test data\" % (np.mean(scores['test_neg_mean_squared_error'])))"
   ]
  },
  {
   "cell_type": "code",
   "execution_count": 28,
   "id": "262a07d9-5ad8-435b-995a-48f8ac2a58d7",
   "metadata": {},
   "outputs": [],
   "source": [
    "def display_index(arr):\n",
    "    i = 0\n",
    "    for a in arr:\n",
    "        print(str(a)+' index: '+str(i))\n",
    "        i+=1"
   ]
  },
  {
   "cell_type": "code",
   "execution_count": 29,
   "id": "075679d4-e376-4e56-95fd-b21a6ce71906",
   "metadata": {},
   "outputs": [],
   "source": [
    "# from sklearn.model_selection import train_test_split\n",
    "\n",
    "# x_train = X[1000:6456]\n",
    "# x_test = X[0:999]\n",
    "# y_train = y[1000:6456]\n",
    "# y_test = y[0:999]\n",
    "\n",
    "\n",
    "# from sklearn.tree import DecisionTreeClassifier\n",
    "# tree = DecisionTreeClassifier()\n",
    "# tree.fit(x_train.astype(int), y_train.astype(int))\n",
    "\n",
    "\n",
    "# from sklearn.metrics import accuracy_score\n",
    "\n",
    "# y_predicted = tree.predict(x_test.astype(int))\n",
    "# accuracy_score(y_test.astype(int), y_predicted)"
   ]
  },
  {
   "cell_type": "code",
   "execution_count": 30,
   "id": "7005518d-932b-4948-a5e5-5d13f0865bf1",
   "metadata": {},
   "outputs": [],
   "source": [
    "#display_index(data.columns)\n",
    "#display_index(np.array(clf.feature_importances_))"
   ]
  },
  {
   "cell_type": "code",
   "execution_count": 31,
   "id": "9898ae99-842c-4905-b2fa-8690403eb59a",
   "metadata": {},
   "outputs": [],
   "source": [
    "male_dec = [male_df['dec'].value_counts()[0], male_df['dec'].value_counts()[1]]\n",
    "female_dec = [female_df['dec'].value_counts()[0], female_df['dec'].value_counts()[1]]"
   ]
  },
  {
   "cell_type": "code",
   "execution_count": 32,
   "id": "cca3bce1-3811-44a8-9cc0-35f582ccebf2",
   "metadata": {},
   "outputs": [
    {
     "data": {
      "image/png": "[encoded data removed]",
      "text/plain": [
       "<Figure size 432x288 with 1 Axes>"
      ]
     },
     "metadata": {
      "needs_background": "light"
     },
     "output_type": "display_data"
    }
   ],
   "source": [
    "import numpy as np \n",
    "import matplotlib.pyplot as plt \n",
    "  \n",
    "X = ['No', 'Yes']\n",
    "  \n",
    "X_axis = np.arange(len(X))\n",
    "  \n",
    "plt.bar(X_axis - 0.2, male_dec, 0.4, label = 'Men')\n",
    "plt.bar(X_axis + 0.2, female_dec, 0.4, label = 'Women')\n",
    "  \n",
    "plt.xticks(X_axis, X)\n",
    "plt.xlabel(\"Decision to match with date\")\n",
    "plt.ylabel(\"Number of Decisions\")\n",
    "plt.title(\"Decision of men and women in Speed Dating\")\n",
    "plt.legend()\n",
    "plt.show()"
   ]
  },
  {
   "cell_type": "code",
   "execution_count": 33,
   "id": "695e0e65-8c92-4e3a-8f4f-2618d120db71",
   "metadata": {},
   "outputs": [],
   "source": [
    "# Despite a slightly larger amount of men, more women than men decide \"No\", and are also less likely to say \"yes\". Men are nearly 50/50 in their\n",
    "# decision split."
   ]
  },
  {
   "cell_type": "code",
   "execution_count": 34,
   "id": "8517c5f2-008d-421b-92b9-b5c51f902e2e",
   "metadata": {},
   "outputs": [
    {
     "data": {
      "image/png": "[encoded data removed]",
      "text/plain": [
       "<Figure size 432x288 with 1 Axes>"
      ]
     },
     "metadata": {
      "needs_background": "light"
     },
     "output_type": "display_data"
    }
   ],
   "source": [
    "import numpy as np \n",
    "import matplotlib.pyplot as plt \n",
    "  \n",
    "X = ['All participants', 'Matched particpants']\n",
    "  \n",
    "X_axis = np.arange(len(X))\n",
    "  \n",
    "plt.bar(X_axis - 0.2, male_dec, 0.4, label = 'Men')\n",
    "plt.bar(X_axis + 0.2, female_dec, 0.4, label = 'Women')\n",
    "  \n",
    "plt.xticks(X_axis, X)\n",
    "plt.xlabel(\"Decision to match with date\")\n",
    "plt.ylabel(\"Number of Decisions\")\n",
    "plt.title(\"Decision of men and women in Speed Dating\")\n",
    "plt.legend()\n",
    "plt.show()"
   ]
  },
  {
   "cell_type": "code",
   "execution_count": 35,
   "id": "d388d6f5-a7c1-4ec8-bcd5-9b06eb66caa9",
   "metadata": {},
   "outputs": [],
   "source": [
    "data['difference_of_age'] = 0\n",
    "for i, row in data.iterrows():\n",
    "    data.at[i, 'difference_of_age'] = data['age_o'][i] - data['age'][i]"
   ]
  },
  {
   "cell_type": "code",
   "execution_count": 36,
   "id": "05f5579e-5cd7-429d-9347-7dab40298b24",
   "metadata": {},
   "outputs": [
    {
     "data": {
      "text/plain": [
       "0.06799876084262702"
      ]
     },
     "execution_count": 36,
     "metadata": {},
     "output_type": "execute_result"
    }
   ],
   "source": [
    "data['difference_of_age'].mean()"
   ]
  },
  {
   "cell_type": "code",
   "execution_count": 37,
   "id": "3ee17aab-c700-4c5f-9383-bdef246725bd",
   "metadata": {},
   "outputs": [
    {
     "data": {
      "text/plain": [
       "0.10053859964093358"
      ]
     },
     "execution_count": 37,
     "metadata": {},
     "output_type": "execute_result"
    }
   ],
   "source": [
    "data[data['match'] == 1]['difference_of_age'].mean()"
   ]
  },
  {
   "cell_type": "code",
   "execution_count": 38,
   "id": "9df14cf8-b546-4744-98eb-0d180425fe05",
   "metadata": {},
   "outputs": [
    {
     "data": {
      "text/plain": [
       "<AxesSubplot:>"
      ]
     },
     "execution_count": 38,
     "metadata": {},
     "output_type": "execute_result"
    },
    {
     "data": {
      "image/png": "[encoded data removed]",
      "text/plain": [
       "<Figure size 432x288 with 1 Axes>"
      ]
     },
     "metadata": {
      "needs_background": "light"
     },
     "output_type": "display_data"
    }
   ],
   "source": [
    "data[data['match'] == 1]['difference_of_age'].hist()"
   ]
  },
  {
   "cell_type": "code",
   "execution_count": 39,
   "id": "2e7cca73-41fd-4c4c-a480-83f8796ff1e7",
   "metadata": {},
   "outputs": [
    {
     "data": {
      "text/plain": [
       "<AxesSubplot:>"
      ]
     },
     "execution_count": 39,
     "metadata": {},
     "output_type": "execute_result"
    },
    {
     "data": {
      "image/png": "[encoded data removed]",
      "text/plain": [
       "<Figure size 432x288 with 1 Axes>"
      ]
     },
     "metadata": {
      "needs_background": "light"
     },
     "output_type": "display_data"
    }
   ],
   "source": [
    "data['difference_of_age'].hist()"
   ]
  },
  {
   "cell_type": "code",
   "execution_count": 40,
   "id": "1ff38b03-db08-4ecb-a2e5-0f7a7846c7cc",
   "metadata": {},
   "outputs": [
    {
     "data": {
      "text/plain": [
       "Ttest_indResult(statistic=0.21816494784320625, pvalue=0.8273064769725224)"
      ]
     },
     "execution_count": 40,
     "metadata": {},
     "output_type": "execute_result"
    }
   ],
   "source": [
    "import scipy.stats as stats\n",
    "stats.ttest_ind(data[data['match'] == 1]['difference_of_age'],\n",
    "                data['difference_of_age'])"
   ]
  },
  {
   "cell_type": "code",
   "execution_count": 41,
   "id": "1c295969-360b-4c5e-8147-5bc0bc648f74",
   "metadata": {},
   "outputs": [
    {
     "name": "stdout",
     "output_type": "stream",
     "text": [
      "10-fold Cross Validation results for Decision Tree:\n",
      "0.81 accuracy for test data\n",
      "0.80 recall for test data\n",
      "0.80 precision for test data\n",
      "-0.19 mean_squared error for test data\n"
     ]
    }
   ],
   "source": [
    "clf = tree.DecisionTreeClassifier(max_depth = 10, splitter = 'best', criterion = \"entropy\")\n",
    "clf = clf.fit(female_X, female_y)\n",
    "\n",
    "from sklearn.model_selection import cross_validate\n",
    "scoring = ['precision_macro', 'recall_macro', 'accuracy', 'neg_mean_squared_error']\n",
    "scores = cross_validate(clf, female_X, female_y, scoring=scoring, cv=10)\n",
    "print(\"10-fold Cross Validation results for Decision Tree:\")\n",
    "print(\"%0.2f accuracy for test data\" % (np.mean(scores['test_accuracy'])))\n",
    "print(\"%0.2f recall for test data\" % (np.mean(scores['test_recall_macro'])))\n",
    "print(\"%0.2f precision for test data\" % (np.mean(scores['test_precision_macro'])))\n",
    "print(\"%0.2f mean_squared error for test data\" % (np.mean(scores['test_neg_mean_squared_error'])))"
   ]
  },
  {
   "cell_type": "code",
   "execution_count": 42,
   "id": "2f7d894a-bfbd-4460-8f21-c9a2351132e5",
   "metadata": {},
   "outputs": [],
   "source": [
    "#display_index(female_data.columns)\n",
    "#display_index(np.array(clf.feature_importances_))"
   ]
  },
  {
   "cell_type": "code",
   "execution_count": 43,
   "id": "67168b99-3840-42eb-83fd-01284d50e11d",
   "metadata": {},
   "outputs": [
    {
     "data": {
      "text/plain": [
       "[('pf_o_sin', 0.009663989959755625),\n",
       " ('fun1_1', 0.012194422540291789),\n",
       " ('wave', 0.015170796088326608),\n",
       " ('exphappy', 0.016393704011737616),\n",
       " ('fun', 0.01690999145642712),\n",
       " ('attr', 0.018142553668897207),\n",
       " ('match_es', 0.01866076168922464),\n",
       " ('like', 0.13009475020667485),\n",
       " ('dec_o', 0.1980187866788853),\n",
       " ('match', 0.3476092521263089)]"
      ]
     },
     "execution_count": 43,
     "metadata": {},
     "output_type": "execute_result"
    }
   ],
   "source": [
    "female_feature_arr = clf.feature_importances_\n",
    "female_dict = dict()\n",
    "index = 0\n",
    "for col in female_data.columns:\n",
    "    female_dict[col] = female_feature_arr[index]\n",
    "    index+=1\n",
    "arr = sorted(female_dict.items(), key=lambda x: x[1])\n",
    "arr[-10:]"
   ]
  },
  {
   "cell_type": "code",
   "execution_count": 44,
   "id": "22338b11-464e-4750-8b41-a4f0f86f5ca5",
   "metadata": {},
   "outputs": [
    {
     "name": "stdout",
     "output_type": "stream",
     "text": [
      "10-fold Cross Validation results for Decision Tree:\n",
      "0.80 accuracy for test data\n",
      "0.80 recall for test data\n",
      "0.81 precision for test data\n",
      "-0.20 mean_squared error for test data\n"
     ]
    }
   ],
   "source": [
    "clf = tree.DecisionTreeClassifier(max_depth = 10, splitter = 'best', criterion = \"entropy\")\n",
    "clf = clf.fit(male_X, male_y)\n",
    "\n",
    "from sklearn.model_selection import cross_validate\n",
    "scoring = ['precision_macro', 'recall_macro', 'accuracy', 'neg_mean_squared_error']\n",
    "scores = cross_validate(clf, male_X, male_y, scoring=scoring, cv=10)\n",
    "print(\"10-fold Cross Validation results for Decision Tree:\")\n",
    "print(\"%0.2f accuracy for test data\" % (np.mean(scores['test_accuracy'])))\n",
    "print(\"%0.2f recall for test data\" % (np.mean(scores['test_recall_macro'])))\n",
    "print(\"%0.2f precision for test data\" % (np.mean(scores['test_precision_macro'])))\n",
    "print(\"%0.2f mean_squared error for test data\" % (np.mean(scores['test_neg_mean_squared_error'])))"
   ]
  },
  {
   "cell_type": "code",
   "execution_count": 45,
   "id": "9c32e68c-8548-45f9-b29f-2cfba4c0a665",
   "metadata": {},
   "outputs": [],
   "source": [
    "#display_index(male_data.columns)\n",
    "#display_index(np.array(clf.feature_importances_))"
   ]
  },
  {
   "cell_type": "code",
   "execution_count": 46,
   "id": "d1bebb86-a2a6-470a-ba37-28ec4175f98f",
   "metadata": {},
   "outputs": [],
   "source": [
    "male_feature_arr = clf.feature_importances_\n",
    "male_dict = dict()\n",
    "index = 0\n",
    "for col in male_data.columns:\n",
    "    male_dict[col] = male_feature_arr[index]\n",
    "    index+=1\n"
   ]
  },
  {
   "cell_type": "code",
   "execution_count": 47,
   "id": "7f9e686d-4e8c-4833-b433-709a5ace8a17",
   "metadata": {},
   "outputs": [],
   "source": [
    "arr = sorted(male_dict.items(), key=lambda x: x[1])"
   ]
  },
  {
   "cell_type": "code",
   "execution_count": 48,
   "id": "f8950ffd-7e0d-4432-8a20-9c62b5035a71",
   "metadata": {},
   "outputs": [
    {
     "data": {
      "text/plain": [
       "[('fun', 0.008847427880554088),\n",
       " ('prob', 0.010009946946265903),\n",
       " ('amb4_1', 0.012561902290772274),\n",
       " ('intel1_1', 0.012920700227952017),\n",
       " ('sinc4_1', 0.01734047796854504),\n",
       " ('match_es', 0.020676485558772825),\n",
       " ('attr', 0.04990565379127087),\n",
       " ('like', 0.19364857039573055),\n",
       " ('dec_o', 0.21359561585524744),\n",
       " ('match', 0.25520830348197304)]"
      ]
     },
     "execution_count": 48,
     "metadata": {},
     "output_type": "execute_result"
    }
   ],
   "source": [
    "arr[-10:]"
   ]
  },
  {
   "cell_type": "code",
   "execution_count": null,
   "id": "1589e97d-9f23-4491-b473-9c55ebbb4d8b",
   "metadata": {},
   "outputs": [],
   "source": []
  }
 ],
 "metadata": {
  "kernelspec": {
   "display_name": "Python 3 (ipykernel)",
   "language": "python",
   "name": "python3"
  },
  "language_info": {
   "codemirror_mode": {
    "name": "ipython",
    "version": 3
   },
   "file_extension": ".py",
   "mimetype": "text/x-python",
   "name": "python",
   "nbconvert_exporter": "python",
   "pygments_lexer": "ipython3",
   "version": "3.9.7"
  }
 },
 "nbformat": 4,
 "nbformat_minor": 5
}
